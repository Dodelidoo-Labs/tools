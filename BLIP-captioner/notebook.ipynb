{
 "cells": [
  {
   "cell_type": "code",
   "execution_count": null,
   "id": "77563604",
   "metadata": {},
   "outputs": [],
   "source": [
    "!pip3 install transformers==4.15.0 timm==0.4.12 fairscale==0.4.4"
   ]
  },
  {
   "cell_type": "code",
   "execution_count": null,
   "id": "6eae9c7a",
   "metadata": {},
   "outputs": [],
   "source": [
    "!git clone https://github.com/salesforce/BLIP"
   ]
  },
  {
   "cell_type": "code",
   "execution_count": null,
   "id": "00a8d8df",
   "metadata": {},
   "outputs": [],
   "source": [
    "%cd /path/to/BLIP"
   ]
  },
  {
   "cell_type": "code",
   "execution_count": null,
   "id": "9a03cb51",
   "metadata": {},
   "outputs": [],
   "source": [
    "import sys\n",
    "import os\n",
    "from PIL import Image\n",
    "import requests\n",
    "import torch\n",
    "from torchvision import transforms\n",
    "from torchvision.transforms.functional import InterpolationMode\n",
    "from models.blip import blip_decoder"
   ]
  },
  {
   "cell_type": "code",
   "execution_count": 2,
   "id": "64eadf11",
   "metadata": {},
   "outputs": [],
   "source": [
    "Image.MAX_IMAGE_PIXELS = 10000000000000000000000000  # Set a maximum image size (e.g., 1 billion pixels)\n",
    "def load_images(image_file, image_size, device):\n",
    "    raw_image = Image.open(image_file).convert('RGB')\n",
    "\n",
    "    w, h = raw_image.size\n",
    "    raw_image.thumbnail((w // 5, h // 5))\n",
    "    raw_image.show()\n",
    "\n",
    "    transform = transforms.Compose([\n",
    "        transforms.Resize((image_size, image_size), interpolation=InterpolationMode.BICUBIC),\n",
    "        transforms.ToTensor(),\n",
    "        transforms.Normalize((0.48145466, 0.4578275, 0.40821073), (0.26862954, 0.26130258, 0.27577711))\n",
    "    ])\n",
    "    image = transform(raw_image).unsqueeze(0).to(device)\n",
    "    return image"
   ]
  },
  {
   "cell_type": "code",
   "execution_count": null,
   "id": "3e07e12f",
   "metadata": {},
   "outputs": [],
   "source": [
    "model_url = 'https://storage.googleapis.com/sfr-vision-language-research/BLIP/models/model_base_caption_capfilt_large.pth'\n",
    "model = blip_decoder(pretrained=model_url, image_size=image_size, vit='base')\n",
    "model.eval()\n",
    "model = model.to(device)\n",
    "image_folder = '/root/images/'  # Specify the path to your images folder"
   ]
  },
  {
   "cell_type": "code",
   "execution_count": null,
   "id": "985e17bc",
   "metadata": {},
   "outputs": [],
   "source": [
    "image_files = [\n",
    "    os.path.join(image_folder, file)\n",
    "    for file in os.listdir(image_folder)\n",
    "    if file.endswith('.jpg') or file.endswith('.png')\n",
    "]"
   ]
  },
  {
   "cell_type": "code",
   "execution_count": 1,
   "id": "169bbab8",
   "metadata": {},
   "outputs": [
    {
     "ename": "NameError",
     "evalue": "name 'os' is not defined",
     "output_type": "error",
     "traceback": [
      "\u001b[0;31m---------------------------------------------------------------------------\u001b[0m",
      "\u001b[0;31mNameError\u001b[0m                                 Traceback (most recent call last)",
      "Cell \u001b[0;32mIn[1], line 1\u001b[0m\n\u001b[0;32m----> 1\u001b[0m \u001b[38;5;28;01mfor\u001b[39;00m root, folders, files \u001b[38;5;129;01min\u001b[39;00m \u001b[43mos\u001b[49m\u001b[38;5;241m.\u001b[39mwalk(image_folder):\n\u001b[1;32m      2\u001b[0m     \u001b[38;5;28;01mfor\u001b[39;00m file \u001b[38;5;129;01min\u001b[39;00m files:\n\u001b[1;32m      3\u001b[0m         \u001b[38;5;28;01mif\u001b[39;00m file\u001b[38;5;241m.\u001b[39mendswith(\u001b[38;5;124m'\u001b[39m\u001b[38;5;124m.jpg\u001b[39m\u001b[38;5;124m'\u001b[39m) \u001b[38;5;129;01mor\u001b[39;00m file\u001b[38;5;241m.\u001b[39mendswith(\u001b[38;5;124m'\u001b[39m\u001b[38;5;124m.png\u001b[39m\u001b[38;5;124m'\u001b[39m):\n",
      "\u001b[0;31mNameError\u001b[0m: name 'os' is not defined"
     ]
    }
   ],
   "source": [
    "for root, folders, files in os.walk(image_folder):\n",
    "    for file in files:\n",
    "        if file.endswith('.jpg') or file.endswith('.png'):\n",
    "\n",
    "            image_file = os.path.join(root, file)\n",
    "            image = load_images(image_file, image_size=image_size, device=device)\n",
    "\n",
    "            with torch.no_grad():\n",
    "                ##\n",
    "                # beam search. \n",
    "                # @see https://github.com/victorchall/EveryDream/blob/main/doc/AUTO_CAPTION.md\n",
    "                # @see https://github.com/salesforce/BLIP/blob/main/demo.ipynb\n",
    "                #\n",
    "                # num_beams: the higher the more precise, the more computing time it needs per image\n",
    "                # max_length: ED supports max 75 and it is not clear if it uses the same tokenizer as BLIP, so the 75 of BLIP might be MORE or LESS than ED's 75!\n",
    "                # min_length: Above 30 it produces very detailed captions, however repetition also increases, thus, the higher min_lenght, the higher must be repetition_penalty\n",
    "                # repetition_penalty: The higher, the less repetitions your caption gets\n",
    "                ##\n",
    "                caption = model.generate(image, sample=False, num_beams=9, max_length=75, min_length=16, repetition_penalty=100.0)\n",
    "                # nucleus sampling\n",
    "                # caption = model.generate(image, sample=True, top_p=0.9, max_length=20, min_length=5)\n",
    "            \n",
    "            # Create a text file path in the same folder as the image\n",
    "            txt_file = os.path.splitext(image_file)[0] + '.txt'\n",
    "            \n",
    "            # Check if the text file already exists, and skip if it does\n",
    "            if os.path.exists(txt_file):\n",
    "                continue\n",
    "\n",
    "            # Write the caption to the text file\n",
    "            with open(txt_file, 'w') as f:\n",
    "                f.write(caption[0])\n",
    "                \n",
    "            print('Caption for {}: {}'.format(image_file, caption[0]))"
   ]
  }
 ],
 "metadata": {
  "kernelspec": {
   "display_name": "Python 3 (ipykernel)",
   "language": "python",
   "name": "python3"
  },
  "language_info": {
   "codemirror_mode": {
    "name": "ipython",
    "version": 3
   },
   "file_extension": ".py",
   "mimetype": "text/x-python",
   "name": "python",
   "nbconvert_exporter": "python",
   "pygments_lexer": "ipython3",
   "version": "3.11.4"
  }
 },
 "nbformat": 4,
 "nbformat_minor": 5
}
